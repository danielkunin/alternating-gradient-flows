{
 "cells": [
  {
   "cell_type": "markdown",
   "id": "51d11caf-0971-4324-b63b-819b714a9c3c",
   "metadata": {},
   "source": [
    "# Modular Addition"
   ]
  },
  {
   "cell_type": "code",
   "execution_count": 1,
   "id": "80f249f1-6985-4c73-86cd-04e1adac3e8d",
   "metadata": {},
   "outputs": [],
   "source": [
    "import numpy as np\n",
    "import random\n",
    "import torch\n",
    "import torch.nn as nn\n",
    "import torch.optim as optim\n",
    "import matplotlib.pyplot as plt\n",
    "from tqdm import tqdm\n",
    "import pickle"
   ]
  },
  {
   "cell_type": "markdown",
   "id": "9fd05577-db56-4d0a-bb93-1d0b48cecaf6",
   "metadata": {},
   "source": [
    "## Dataset"
   ]
  },
  {
   "cell_type": "code",
   "execution_count": 2,
   "id": "f19bd1ad-9e8f-4720-b317-afe13fafae88",
   "metadata": {},
   "outputs": [],
   "source": [
    "def one_hot(p):\n",
    "    \"\"\"One-hot encode an integer value in R^p.\"\"\"\n",
    "    vec = np.zeros(p)\n",
    "    vec[0] = 1\n",
    "    return vec\n",
    "\n",
    "def generate_template(p, magnitude, exponent):\n",
    "    weight = magnitude * np.power(np.arange(1, p), -exponent)  # Power-law singular values\n",
    "    template = np.ones(p)  # Base term (DC component)\n",
    "    for freq in range(1, p):\n",
    "        template += weight[freq-1] * np.cos(np.arange(p) * freq / p * 2 * np.pi)\n",
    "    return template / p\n",
    "\n",
    "def generate_fixed_template(p):\n",
    "    # Generate template array from Fourier spectrum\n",
    "    spectrum = np.zeros(p, dtype=complex)\n",
    "    \n",
    "    # Set only three frequencies with specific amplitudes\n",
    "    spectrum[1] = 10 # Positive frequency\n",
    "    spectrum[-1] = 10  # Negative frequency (conjugate)\n",
    "    spectrum[3] = 5 # Second frequency\n",
    "    spectrum[-3] =  5  # Its conjugate\n",
    "    spectrum[5] = 2.5  # Third frequency \n",
    "    spectrum[-5] = 2.5  # Its conjugate\n",
    "    \n",
    "    # Generate signal from spectrum\n",
    "    template = np.fft.ifft(spectrum).real\n",
    "\n",
    "    return template\n",
    "\n",
    "def ModularAdditionDataset(p, template):\n",
    "    # Initialize data arrays\n",
    "    X = np.zeros((p * p, 2, p))  # Shape: (p^2, 2, p)\n",
    "    Y = np.zeros((p * p, p))     # Shape: (p^2, p)\n",
    "    \n",
    "    # Generate the dataset\n",
    "    idx = 0\n",
    "    for a in range(p):\n",
    "        for b in range(p):\n",
    "            q = (a + b) % p  # a + b mod p\n",
    "            X[idx, 0, :] = np.roll(template, a)\n",
    "            X[idx, 1, :] = np.roll(template, b)\n",
    "            Y[idx, :] = np.roll(template, q)\n",
    "            idx += 1\n",
    "            \n",
    "    return X, Y"
   ]
  },
  {
   "cell_type": "markdown",
   "id": "7a0ecbbd-ceaf-4bef-af4a-13a22fa70063",
   "metadata": {},
   "source": [
    "## Architecture"
   ]
  },
  {
   "cell_type": "code",
   "execution_count": 3,
   "id": "2cf22b7d-49e7-445b-8742-2e75cd1fa55a",
   "metadata": {},
   "outputs": [],
   "source": [
    "class TwoLayerNet(nn.Module):\n",
    "    def __init__(self, p, hidden_size, init_scale=1.0):\n",
    "        super(TwoLayerNet, self).__init__()\n",
    "        \n",
    "        # Store dimensions\n",
    "        self.p = p\n",
    "        self.hidden_size = hidden_size\n",
    "        self.init_scale = init_scale\n",
    "        \n",
    "        # Initialize parameters \n",
    "        self.U = nn.Parameter(self.init_scale * torch.randn(hidden_size, p) / np.sqrt(2*p))\n",
    "        self.V = nn.Parameter(self.init_scale * torch.randn(hidden_size, p) / np.sqrt(2*p))\n",
    "        self.W = nn.Parameter(self.init_scale * torch.randn(hidden_size, p) / np.sqrt(p))\n",
    "\n",
    "    def forward(self, x):\n",
    "        x1 = x[:, :self.p] @ self.U.T\n",
    "        x2 = x[:, self.p:] @ self.V.T\n",
    "        x_out = ((x1 + x2)**2) @ self.W        \n",
    "        return x_out"
   ]
  },
  {
   "cell_type": "code",
   "execution_count": 4,
   "id": "32f3992e",
   "metadata": {},
   "outputs": [],
   "source": [
    "seed = 30  # or any integer you like\n",
    "random.seed(seed)\n",
    "np.random.seed(seed)\n",
    "torch.manual_seed(seed)\n",
    "torch.cuda.manual_seed_all(seed)  # if using GPU\n",
    "\n",
    "# Data Generation using the new function\n",
    "p = 20  # Modulus\n",
    "\n",
    "# Get base vector\n",
    "template = generate_fixed_template(p)\n",
    "\n",
    "# Mean center template\n",
    "template -= np.mean(template)\n",
    "\n",
    "# Generate dataset using numpy\n",
    "X, Y = ModularAdditionDataset(p, template)\n",
    "X_train = torch.tensor(X, dtype=torch.float32).view(-1, 2 * p).cuda()\n",
    "Y_train = torch.tensor(Y, dtype=torch.float32).cuda()"
   ]
  },
  {
   "cell_type": "code",
   "execution_count": 7,
   "id": "4a08195a",
   "metadata": {},
   "outputs": [],
   "source": [
    "lr = 0.01\n",
    "mom = 0.9\n",
    "init_scale=2e-3\n",
    "hidden_size = 6 * 3\n",
    "\n",
    "costmin_lr = 0.01\n",
    "utilmax_lr = 10"
   ]
  },
  {
   "cell_type": "markdown",
   "id": "f7e7336b-5c6e-48af-a357-2b2c877f6168",
   "metadata": {},
   "source": [
    "## Optimization"
   ]
  },
  {
   "cell_type": "code",
   "execution_count": null,
   "id": "1035f81c-e877-4655-8640-4e4c3d323af8",
   "metadata": {},
   "outputs": [
    {
     "name": "stderr",
     "output_type": "stream",
     "text": [
      "100%|██████████| 200000/200000 [05:21<00:00, 621.16it/s]\n"
     ]
    }
   ],
   "source": [
    "def train(model, X_train, Y_train, optimizer, nsteps=100):\n",
    "    model.train()\n",
    "    loss_history = {}\n",
    "    param_history = {}\n",
    "\n",
    "    for t in tqdm(range(nsteps)):\n",
    "        optimizer.zero_grad()\n",
    "        residual = (Y_train - model(X_train))\n",
    "        loss = (residual**2).mean()\n",
    "        loss_history[t] = loss.item()\n",
    "        if loss.item() > 1e5:\n",
    "            assert False\n",
    "        if t % nsteps//100 == 0:\n",
    "            param_history[t] = {\n",
    "                \"U\": model.U.detach().cpu().clone(),\n",
    "                \"V\": model.V.detach().cpu().clone(),\n",
    "\n",
    "                \"W\": model.W.detach().cpu().clone()\n",
    "            }            \n",
    "        loss.backward()\n",
    "        optimizer.step()\n",
    "        \n",
    "    return loss_history, param_history # Return loss history for plotting\n",
    "\n",
    "model = TwoLayerNet(p=p, hidden_size=hidden_size,\n",
    "                    init_scale=init_scale).cuda()\n",
    "\n",
    "optimizer = optim.SGD(model.parameters(), lr=lr, momentum=mom)\n",
    "nsteps = 200_000\n",
    "loss_history, param_history = train(model, X_train, Y_train, optimizer, nsteps=nsteps)\n",
    "\n",
    "with open(\"loss_history.pickle\", \"wb\") as f:\n",
    "    pickle.dump(loss_history, f)\n",
    "\n",
    "with open(\"param_history.pickle\", \"wb\") as f:\n",
    "    pickle.dump(param_history, f)"
   ]
  },
  {
   "cell_type": "markdown",
   "id": "062a4393",
   "metadata": {},
   "source": [
    "## AGF"
   ]
  },
  {
   "cell_type": "code",
   "execution_count": 5,
   "id": "fe647614",
   "metadata": {},
   "outputs": [],
   "source": [
    "with open(\"loss_history.pickle\", \"rb\") as f:\n",
    "    loss_history = pickle.load(f)\n",
    "with open(\"param_history.pickle\", \"rb\") as f:\n",
    "    param_history = pickle.load(f)\n",
    "\n",
    "if loss_history==None or param_history==None:\n",
    "    print(\"Must first generate true GD trajectory\")"
   ]
  },
  {
   "cell_type": "code",
   "execution_count": 8,
   "id": "190e63c5",
   "metadata": {},
   "outputs": [],
   "source": [
    "class ModsumSubNetwork(nn.Module):\n",
    "    \n",
    "    def __init__(self, d_in, d_out, init_scale):\n",
    "        super().__init__()\n",
    "        assert d_in%2 == 0\n",
    "        self.p = d_in // 2\n",
    "        self.u = nn.Linear(self.p, 1, bias=False)\n",
    "        self.v = nn.Linear(self.p, 1, bias=False)\n",
    "        self.w = nn.Linear(1, d_out, bias=False)\n",
    "        with torch.no_grad():\n",
    "            self.w.weight.mul_(init_scale)\n",
    "            self.u.weight.mul_(init_scale)\n",
    "            self.v.weight.mul_(init_scale)\n",
    "        self.active = False\n",
    "        self.util_acc = 0\n",
    "        self.c_a = 1/self.get_norm() - 1\n",
    "        \n",
    "        self.normalize()\n",
    "        \n",
    "    def get_norm(self):\n",
    "        sqnorm = lambda x: torch.linalg.norm(x.weight)**2\n",
    "        norm = torch.sqrt(sqnorm(self.w) + sqnorm(self.u) + sqnorm(self.v))\n",
    "        return norm\n",
    "    \n",
    "    def reinitialize(self, u, v, w):\n",
    "        with torch.no_grad():\n",
    "            self.u.weight.copy_(u)\n",
    "            self.v.weight.copy_(v)\n",
    "            self.w.weight.copy_(w)\n",
    "        self.c_a = 1/self.get_norm() - 1\n",
    "    \n",
    "    def forward(self, x):\n",
    "        x1 = x[:, :self.p]\n",
    "        x2 = x[:, self.p:]\n",
    "        return self.w((self.u(x1) + self.v(x2))**2)\n",
    "    \n",
    "    def normalize(self):\n",
    "        norm = self.get_norm()\n",
    "        with torch.no_grad():\n",
    "            self.w.weight.div_(norm)\n",
    "            self.u.weight.div_(norm)\n",
    "            self.v.weight.div_(norm)\n",
    "    \n",
    "    def utility_step(self, x, residual, learning_rate):\n",
    "        f_i = self(x)\n",
    "        util = torch.einsum('nd,nd->n',  f_i, residual).mean()\n",
    "        self.util_acc += 3 * learning_rate * util.item()\n",
    "        norm_th = 1/(1 + self.c_a - self.util_acc)\n",
    "        \n",
    "        util.backward()\n",
    "        with torch.no_grad():\n",
    "            self.w.weight += norm_th * learning_rate * self.w.weight.grad\n",
    "            self.u.weight += norm_th * learning_rate * self.u.weight.grad\n",
    "            self.v.weight += norm_th * learning_rate * self.v.weight.grad\n",
    "            self.w.weight.grad.zero_()\n",
    "            self.u.weight.grad.zero_()\n",
    "            self.v.weight.grad.zero_()\n",
    "            self.normalize()\n",
    "\n",
    "\n",
    "class ModsumNetwork(nn.Module):\n",
    "    \n",
    "    def __init__(self, d_in, d_out, init_scale, width=100):\n",
    "        super().__init__()\n",
    "        neurons = [ModsumSubNetwork(d_in, d_out, init_scale) for _ in range(width)]\n",
    "        self.neurons = nn.ModuleList(neurons)\n",
    "        self.set_mode(\"utilmax\")\n",
    "    \n",
    "    def load_init(self, U, V, W):\n",
    "        for i, n in enumerate(self.neurons):\n",
    "            u, v, w = U[i], V[i], W[i][:, None]\n",
    "            n.reinitialize(u, v, w)\n",
    "            \n",
    "    def set_mode(self, mode):\n",
    "        if mode not in [\"utilmax\", \"costmin\"]:\n",
    "            raise ValueError(\"mode must be utilmax or costmin\")\n",
    "        self.mode = mode\n",
    "        for neuron in self.neurons:\n",
    "            grad_on = (mode==\"utilmax\") ^ neuron.active\n",
    "            for param in neuron.parameters():\n",
    "                param.requires_grad = grad_on\n",
    "    \n",
    "    def forward(self, x):\n",
    "        if not np.any([n.active for n in self.neurons]):\n",
    "            return 0\n",
    "        else:\n",
    "            outputs = torch.stack([neuron(x) for neuron in self.neurons if neuron.active], dim=0)\n",
    "            return torch.sum(outputs, dim=0)\n",
    "\n",
    "\n",
    "def train_agf(X_train, Y_train, init_sz=1e-3, agf_steps=5, from_init=None,\n",
    "              utilmax_lr=1, costmin_lr=1, costmin_maxiter=2_000, costmin_grad_thresh=1e-1):\n",
    "    d_in, d_out = X_train.shape[-1], Y_train.shape[-1]\n",
    "    if from_init:\n",
    "        U, V, W = from_init[\"U\"], from_init[\"V\"], from_init[\"W\"]\n",
    "        assert d_in == U.shape[1]*2\n",
    "        assert d_out == W.shape[1]\n",
    "        width = U.shape[0]\n",
    "        net = ModsumNetwork(d_in, d_out, init_sz, width=width).cuda()\n",
    "        net.load_init(U, V, W)\n",
    "    else:\n",
    "        net = ModsumNetwork(d_in, d_out, init_sz, width=agf_steps).cuda()\n",
    "    X_train.requires_grad = False\n",
    "    \n",
    "    def update_results(results, t):\n",
    "        results[\"t\"].append(t)\n",
    "        residual = (Y_train - net(X_train))\n",
    "        residual = residual.detach()\n",
    "        results[\"residuals\"].append(residual)\n",
    "        loss = (residual**2).mean().item()\n",
    "        results[\"losses\"].append(loss)\n",
    "        results[\"models\"].append(net.state_dict())\n",
    "        \n",
    "    results = {\n",
    "        \"t\": [],\n",
    "        \"residuals\": [],\n",
    "        \"losses\": [],\n",
    "        \"models\": [],\n",
    "    }\n",
    "    t = 0\n",
    "    update_results(results, t)\n",
    "    for _ in tqdm(range(agf_steps)):\n",
    "        residual = (1/d_out) * 2*(Y_train - net(X_train))\n",
    "        residual = residual.detach()\n",
    "        iters = 0\n",
    "        while net.mode == \"utilmax\":\n",
    "            for n in net.neurons:\n",
    "                if n.active:\n",
    "                    continue\n",
    "                n.utility_step(X_train, residual, utilmax_lr)\n",
    "                if n.util_acc > n.c_a:\n",
    "                    n.active = True\n",
    "                    net.set_mode(\"costmin\")\n",
    "                    break\n",
    "            iters += 1\n",
    "        t += iters\n",
    "            \n",
    "        optimizer = torch.optim.SGD(net.parameters(), lr=costmin_lr, momentum=0.9)\n",
    "        iters = 0\n",
    "        while net.mode == \"costmin\":\n",
    "            optimizer.zero_grad(set_to_none=False)\n",
    "            residual = (Y_train - net(X_train))\n",
    "            loss = (residual**2).mean()\n",
    "            loss.backward()\n",
    "            if iters%100 == 0:\n",
    "                with torch.no_grad():\n",
    "                    grad_norm = np.sqrt(sum([torch.norm(p.grad)**2 for p in net.parameters()]).item())\n",
    "                rel_grad = grad_norm/loss.item()\n",
    "                if rel_grad < costmin_grad_thresh:\n",
    "                    net.set_mode(\"utilmax\")\n",
    "                elif rel_grad*costmin_lr > 1:\n",
    "                    raise ValueError\n",
    "            if iters > costmin_maxiter:\n",
    "                net.set_mode(\"utilmax\")\n",
    "            optimizer.step()\n",
    "            iters += 1\n",
    "        update_results(results, t)\n",
    "        print(f\"loss: {loss.item():.5f}\")\n",
    "    \n",
    "    return results"
   ]
  },
  {
   "cell_type": "code",
   "execution_count": null,
   "id": "fdf989d0",
   "metadata": {},
   "outputs": [
    {
     "name": "stderr",
     "output_type": "stream",
     "text": [
      "  9%|▉         | 1/11 [00:04<00:44,  4.41s/it]"
     ]
    },
    {
     "name": "stdout",
     "output_type": "stream",
     "text": [
      "loss: 0.59962\n"
     ]
    },
    {
     "name": "stderr",
     "output_type": "stream",
     "text": [
      " 18%|█▊        | 2/11 [00:07<00:30,  3.39s/it]"
     ]
    },
    {
     "name": "stdout",
     "output_type": "stream",
     "text": [
      "loss: 0.41270\n"
     ]
    },
    {
     "name": "stderr",
     "output_type": "stream",
     "text": [
      " 27%|██▋       | 3/11 [00:09<00:23,  2.92s/it]"
     ]
    },
    {
     "name": "stdout",
     "output_type": "stream",
     "text": [
      "loss: 0.28552\n"
     ]
    },
    {
     "name": "stderr",
     "output_type": "stream",
     "text": [
      " 36%|███▋      | 4/11 [00:14<00:27,  3.93s/it]"
     ]
    },
    {
     "name": "stdout",
     "output_type": "stream",
     "text": [
      "loss: 0.24469\n"
     ]
    },
    {
     "name": "stderr",
     "output_type": "stream",
     "text": [
      " 45%|████▌     | 5/11 [00:20<00:27,  4.52s/it]"
     ]
    },
    {
     "name": "stdout",
     "output_type": "stream",
     "text": [
      "loss: 0.15730\n"
     ]
    }
   ],
   "source": [
    "results = train_agf(X_train, Y_train, init_sz=init_scale, agf_steps=11, from_init=param_history[0],\n",
    "                    utilmax_lr=utilmax_lr, costmin_lr=costmin_lr, costmin_grad_thresh=3.8e-2)"
   ]
  },
  {
   "cell_type": "markdown",
   "id": "3ed32d33",
   "metadata": {},
   "source": [
    "## Plots"
   ]
  },
  {
   "cell_type": "code",
   "execution_count": 11,
   "id": "6d2ef745",
   "metadata": {},
   "outputs": [],
   "source": [
    "def smart_tick_formatter(x, pos):\n",
    "    abs_x = abs(x)\n",
    "\n",
    "    if x == 0:\n",
    "        return \"0\"\n",
    "    elif abs_x >= 1e4 or abs_x < 1e-3:\n",
    "        return f\"{x:.1e}\"  # scientific notation\n",
    "    elif x == int(x):\n",
    "        return f\"{x:.0f}\"\n",
    "    elif 1 <= x and x <= 10:\n",
    "        return f\"{x:.1f}\"\n",
    "    else:\n",
    "        return f\"{x:.2f}\"\n",
    "\n",
    "def style_axes(ax, numyticks=5, numxticks=5):\n",
    "    # formatter = FuncFormatter(smart_tick_formatter)\n",
    "\n",
    "    ax.tick_params(axis=\"y\", which=\"both\", bottom=True, top=False,\n",
    "                   labelbottom=True, left=True, right=False,\n",
    "                   labelleft=True, direction='out', length=7, width=1.5, pad=8, labelsize=24)\n",
    "    # ax.yaxis.set_major_formatter(formatter)\n",
    "\n",
    "    ax.tick_params(axis=\"x\", which=\"both\", bottom=True, top=False,\n",
    "                   labelbottom=True, left=True, right=False,\n",
    "                   labelleft=True, direction='out', length=7, width=1.5, pad=8, labelsize=24)\n",
    "    # ax.xaxis.set_major_formatter(formatter)\n",
    "\n",
    "\n",
    "    if ax.get_yscale() == 'linear':\n",
    "        ax.ticklabel_format(style='sci', axis='y', scilimits=(-2, 2))\n",
    "    \n",
    "    if ax.get_xscale() == 'linear':\n",
    "        ax.ticklabel_format(style='sci', axis='x', scilimits=(-2, 2))\n",
    "\n",
    "    ax.xaxis.offsetText.set_fontsize(20)\n",
    "    ax.grid()\n",
    "\n",
    "    for spine in [\"top\", \"right\"]:\n",
    "        ax.spines[spine].set_visible(False)\n",
    "    for spine in [\"left\", \"bottom\"]:\n",
    "        ax.spines[spine].set_linewidth(3)"
   ]
  },
  {
   "cell_type": "code",
   "execution_count": 13,
   "id": "cdf80908",
   "metadata": {},
   "outputs": [
    {
     "data": {
      "image/png": "[encoded data removed]",
      "text/plain": [
       "<Figure size 600x600 with 1 Axes>"
      ]
     },
     "metadata": {},
     "output_type": "display_data"
    }
   ],
   "source": [
    "def get_power(points):\n",
    "    p = len(points)\n",
    "    num_coefficients = (p // 2) + 1\n",
    "    \n",
    "    # Perform FFT and calculate power spectrum\n",
    "    ft = np.fft.fft(points) # Could consider using np.fft.rfft which is designed for real valued input.\n",
    "    power = np.abs(ft[:num_coefficients])**2 / p\n",
    "    \n",
    "    # Double power for frequencies strictly between 0 and Nyquist (Nyquist is not doubled if p is even)\n",
    "    if p % 2 == 0:  # p is even, Nyquist frequency at index num_coefficients - 1\n",
    "        power[1:num_coefficients - 1] *= 2\n",
    "    else:  # p is odd, no Nyquist frequency\n",
    "        power[1:] *= 2\n",
    "\n",
    "    # Confirm the power sum approximates the squared norm of points\n",
    "    total_power = np.sum(power)\n",
    "    norm_squared = np.linalg.norm(points)**2\n",
    "    if not np.isclose(total_power, norm_squared, rtol=1e-3):\n",
    "        print(f\"Warning: Total power {total_power:.3f} does not match norm squared {norm_squared:.3f}\")\n",
    "\n",
    "    return np.arange(num_coefficients), power\n",
    "\n",
    "fig, ax = plt.subplots(1, 1, figsize=(6, 6))\n",
    "ax.plot(list(loss_history.values()), lw=4)\n",
    "\n",
    "for lossval in results[\"losses\"]:\n",
    "    ax.axhline(lossval, alpha=0.3, ls=\":\", color=\"xkcd:slate\", zorder=-4, lw=2)\n",
    "\n",
    "f = utilmax_lr / (lr/(1-mom))\n",
    "for t in results[\"t\"]:\n",
    "    ax.axvline(f*t, alpha=0.3, ls=\":\", color=\"xkcd:slate\", zorder=-4, lw=2)\n",
    "\n",
    "ax.step(f*np.array(results[\"t\"]), results[\"losses\"], where=\"post\",\n",
    "        lw=2, color=\"xkcd:tangerine\")\n",
    "\n",
    "# === Compute power spectrum of template ===\n",
    "freq, power = get_power(template)\n",
    "valid = power > 1e-20\n",
    "freq, power = freq[valid], power[valid]\n",
    "sorted_idx = np.argsort(-power)\n",
    "freq, power = freq[sorted_idx], power[sorted_idx]\n",
    "\n",
    "alpha_values = [np.sum(power[k:]) for k in range(len(power))]\n",
    "coef = 1 / p\n",
    "for k, alpha in enumerate(alpha_values):\n",
    "    ax.axhline(y=coef * alpha, color='black', linestyle='--', linewidth=2, zorder=-2)\n",
    "\n",
    "ax.set_xscale(\"log\")\n",
    "ax.set_yscale(\"log\")\n",
    "ax.set_xlim(7e3, 2e5)\n",
    "ax.set_xlabel('Epochs', fontsize=24)\n",
    "ax.set_ylabel('Train Loss', fontsize=24)\n",
    "\n",
    "style_axes(ax)\n",
    "plt.tight_layout()\n",
    "plt.show()"
   ]
  },
  {
   "cell_type": "code",
   "execution_count": 14,
   "id": "c436b2a6",
   "metadata": {},
   "outputs": [
    {
     "data": {
      "text/plain": [
       "array([     0.,   8800.,  11700.,  13200.,  15600.,  16400.,  32200.,\n",
       "        46600.,  66000., 116500.])"
      ]
     },
     "execution_count": 14,
     "metadata": {},
     "output_type": "execute_result"
    }
   ],
   "source": [
    "f*np.array(results[\"t\"])"
   ]
  }
 ],
 "metadata": {
  "kernelspec": {
   "display_name": "win-research",
   "language": "python",
   "name": "python3"
  },
  "language_info": {
   "codemirror_mode": {
    "name": "ipython",
    "version": 3
   },
   "file_extension": ".py",
   "mimetype": "text/x-python",
   "name": "python",
   "nbconvert_exporter": "python",
   "pygments_lexer": "ipython3",
   "version": "3.12.7"
  }
 },
 "nbformat": 4,
 "nbformat_minor": 5
}
