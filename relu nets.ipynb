{
  "cells": [
    {
      "cell_type": "code",
      "execution_count": 1,
      "metadata": {
        "id": "m55DuHdx51Ek"
      },
      "outputs": [],
      "source": [
        "import numpy as np\n",
        "import matplotlib.pyplot as plt\n",
        "\n",
        "import torch\n",
        "import torchvision\n",
        "import torch.nn.functional as F\n",
        "import torch.nn as nn\n",
        "\n",
        "from einops import rearrange, reduce, repeat\n",
        "\n",
        "import itertools\n",
        "from tqdm import tqdm\n"
      ]
    },
    {
      "cell_type": "markdown",
      "metadata": {
        "id": "5am6z7LW1wCv"
      },
      "source": [
        "## TODO\n",
        "\n",
        "* random init seed\n",
        "* LR-dependent fudge factor for jump times?\n",
        "* longer costmin times in GD; instantaneous in AGF. Wider nets mask this discrepancy"
      ]
    },
    {
      "cell_type": "markdown",
      "metadata": {
        "id": "PUZP5kp4ouuf"
      },
      "source": [
        "# Library"
      ]
    },
    {
      "cell_type": "code",
      "execution_count": 2,
      "metadata": {
        "id": "DJDYiUY95_4d"
      },
      "outputs": [],
      "source": [
        "class ImageData():\n",
        "    \"\"\"\n",
        "    Get image datasets as numpy arrays.\n",
        "    \"\"\"\n",
        "\n",
        "    dataset_dict = {\n",
        "        'mnist': torchvision.datasets.MNIST,\n",
        "        'fmnist': torchvision.datasets.FashionMNIST,\n",
        "        'cifar10': torchvision.datasets.CIFAR10,\n",
        "        'cifar100': torchvision.datasets.CIFAR100,\n",
        "        'svhn': torchvision.datasets.SVHN,\n",
        "        'imagenet32': None,\n",
        "        'imagenet64': None,\n",
        "    }\n",
        "\n",
        "    def __init__(self, dataset_name, data_dir, classes=None, onehot=True):\n",
        "        \"\"\"\n",
        "        dataset_name (str): one of  'mnist', 'fmnist', 'cifar10', 'cifar100', 'imagenet32', 'imagenet64'\n",
        "        dataset_dir (str): the directory where the raw dataset is saved\n",
        "        classes (iterable): a list of groupings of old class labels that each constitute a new class.\n",
        "            e.g. [[0,1], [8]] on MNIST would be a binary classification problem where the first class\n",
        "            consists of samples of 0's and 1's and the second class has samples of 8's\n",
        "        onehot (boolean): whether to use one-hot label encodings (typical for MSE loss). Default: True\n",
        "        format (str): specify order of (sample, channel, height, width) dims. 'NCHW' default, or 'NHWC.'\n",
        "            torchvision.dataset('cifar10') uses latter, needs ToTensor transform to reshape; former is ready-to-use.\n",
        "\n",
        "        returns: numpy ndarray with shape (b, c, h, w)\n",
        "        \"\"\"\n",
        "\n",
        "        assert dataset_name in self.dataset_dict\n",
        "        self.name = dataset_name\n",
        "\n",
        "        def format_data(dataset):\n",
        "            if self.name in ['cifar10','cifar100']:\n",
        "                X, y = dataset.data, dataset.targets\n",
        "                X = rearrange(X, 'b h w c -> b c h w')\n",
        "                y = np.array(y)\n",
        "            if self.name in ['mnist', 'fmnist']:\n",
        "                X, y = dataset.data.numpy(), dataset.targets.numpy()\n",
        "                X = rearrange(X, 'b h w -> b 1 h w')\n",
        "            if self.name in ['svhn']:\n",
        "                X, y = dataset.data, dataset.labels\n",
        "            if self.name in ['imagenet32', 'imagenet64']:\n",
        "                X, y = dataset['data'], dataset['labels']\n",
        "                X = rearrange(X, 'b d -> b c h w', c=3, h=32, w=32)\n",
        "                y -= 1\n",
        "\n",
        "            if classes is not None:\n",
        "                # convert old class labels to new\n",
        "                converter = -1 * np.ones(int(max(y)) + 1)\n",
        "                for new_class, group in enumerate(classes):\n",
        "                    group = [group] if type(group) == int else group\n",
        "                    for old_class in group:\n",
        "                        converter[old_class] = new_class\n",
        "                # remove datapoints not in new classes\n",
        "                mask = (converter[y] >= 0)\n",
        "                X = X[mask]\n",
        "                y = converter[y][mask]\n",
        "\n",
        "            # make elements of input O(1)\n",
        "            X = X/255.0\n",
        "            # shape labels (N, nclasses)\n",
        "            y = F.one_hot(torch.Tensor(y).long()).numpy() if onehot else y[:, None]\n",
        "\n",
        "            return X.astype(np.float32), y.astype(np.float32)\n",
        "\n",
        "        if self.name in ['cifar10','cifar100', 'mnist', 'fmnist']:\n",
        "            raw_train = self.dataset_dict[self.name](root=data_dir, train=True, download=True)\n",
        "            raw_test = self.dataset_dict[self.name](root=data_dir, train=False, download=True)\n",
        "        if self.name == 'svhn':\n",
        "            raw_train = self.dataset_dict[self.name](root=data_dir, split='train', download=True)\n",
        "            raw_test = self.dataset_dict[self.name](root=data_dir, split='test', download=True)\n",
        "        if self.name in ['imagenet32', 'imagenet64']:\n",
        "            raw_train = np.load(f\"{data_dir}/{self.name}-val.npz\")\n",
        "            raw_test = np.load(f\"{data_dir}/{self.name}-val.npz\")\n",
        "\n",
        "        # process raw datasets\n",
        "        self.train_X, self.train_y = format_data(raw_train)\n",
        "        self.test_X, self.test_y = format_data(raw_test)\n",
        "\n",
        "    def get_dataset(self, n, get=\"train\", rng=None):\n",
        "        \"\"\"Generate an image dataset.\n",
        "\n",
        "        n (int): the dataset size\n",
        "        rng (numpy RNG): numpy RNG state for random sampling. Default: None\n",
        "        get (str): either \"train\" or \"test.\" Default: \"train\"\n",
        "\n",
        "        Returns: tuple (X, y) such that X.shape = (n, *in_shape), y.shape = (n, *out_shape)\n",
        "        \"\"\"\n",
        "\n",
        "        assert int(n) == n\n",
        "        n = int(n)\n",
        "        assert n > 0\n",
        "        assert get in [\"train\", \"test\"]\n",
        "        full_X, full_y = (self.train_X, self.train_y) if get == \"train\" else (self.test_X, self.test_y)\n",
        "\n",
        "        # get subset\n",
        "        idxs = slice(n) if rng is None else rng.choice(len(full_X), size=n, replace=False)\n",
        "        X, y = full_X[idxs].copy(), full_y[idxs].copy()\n",
        "        assert len(X) == n\n",
        "        return X, y"
      ]
    },
    {
      "cell_type": "code",
      "execution_count": 3,
      "metadata": {
        "id": "mINS0LFL6Bh8"
      },
      "outputs": [],
      "source": [
        "class ExptTrace():\n",
        "\n",
        "    @classmethod\n",
        "    def multi_init(cls, num_init, var_names):\n",
        "        return [cls(var_names) for _ in range(num_init)]\n",
        "\n",
        "    def __init__(self, var_names):\n",
        "        assert \"val\" not in var_names, f\"variable name 'val' disallowed\"\n",
        "        self.var_names = var_names\n",
        "        self.vals = {}\n",
        "        self.valshape = None\n",
        "\n",
        "    def __setitem__(self, key, val):\n",
        "        if self.valshape is None:\n",
        "            self.valshape = np.shape(val)\n",
        "        assert np.shape(val) == self.valshape, f\"value shape {np.shape(val)} != expected {self.valshape}\"\n",
        "        key = tuple((key,)) if not isinstance(key, tuple) else key\n",
        "        assert len(key) == len(self.var_names), f\"num keys {len(key)} != num vars {len(self.var_names)}\"\n",
        "        assert key not in self.vals, f\"key {key} already exists. overwriting not supported\"\n",
        "        self.vals[key] = val\n",
        "\n",
        "    def __getitem__(self, key):\n",
        "        assert self.valshape is not None, \"must add items before getting\"\n",
        "        key = tuple((key,)) if not isinstance(key, tuple) else key\n",
        "        assert len(key) == len(self.var_names), f\"num keys {len(key)} != num vars {len(self.var_names)}\"\n",
        "        key_axes = []\n",
        "        for idx, var_name in enumerate(self.var_names):\n",
        "            key_i = key[idx]\n",
        "            key_idx_extent = [key_i]\n",
        "            if isinstance(key_i, slice):\n",
        "                slice_is_full = all([x==None for x in [key_i.start, key_i.stop, key_i.step]])\n",
        "                assert slice_is_full, f\"slice start/stop/step not supported ({var_name})\"\n",
        "                key_idx_extent = self.get_axis(var_name)\n",
        "            key_axes.append(key_idx_extent)\n",
        "        shape = [len(key_idx_extent) for key_idx_extent in key_axes]\n",
        "        if np.prod(shape) == 1:\n",
        "            assert key in self.vals, f\"key {key} not found\"\n",
        "            return self.vals[key]\n",
        "        vals = np.zeros(shape + list(self.valshape))\n",
        "\n",
        "        idx_maps = []\n",
        "        for axis in key_axes:\n",
        "            idx_maps.append({val: i for i, val in enumerate(axis)})\n",
        "        for key in itertools.product(*key_axes):\n",
        "            shape_idxs = tuple(idx_maps[dim][val] for dim, val in enumerate(key))\n",
        "            assert key in self.vals, f\"key {key} not found\"\n",
        "            vals[shape_idxs] = self.vals[key]\n",
        "\n",
        "        return vals\n",
        "\n",
        "    def get_axis(self, var_name):\n",
        "        assert var_name in self.var_names, f\"var {var_name} not found\"\n",
        "        idx = self.var_names.index(var_name)\n",
        "        key_idx_extent = set()\n",
        "        for keys in self.vals.keys():\n",
        "            key_idx_extent.add(keys[idx])\n",
        "        return sorted(list(key_idx_extent))\n",
        "\n",
        "    def get(self, **kwargs):\n",
        "        key = self._get_key(_mode='get', **kwargs)\n",
        "        return self[key]\n",
        "\n",
        "    def set(self, **kwargs):\n",
        "        assert \"val\" in kwargs, f\"no val given\"\n",
        "        val = kwargs[\"val\"]\n",
        "        key = self._get_key(_mode='set', **kwargs)\n",
        "        self[key] = val\n",
        "\n",
        "    def is_written(self, **kwargs):\n",
        "        key = self._get_key(_mode='set', **kwargs)\n",
        "        return key in self.vals\n",
        "\n",
        "    def _get_key(self, _mode='set', **kwargs):\n",
        "        for var_name in self.var_names:\n",
        "            if _mode == 'set':\n",
        "                assert var_name in kwargs, f\"must specify var {var_name}\"\n",
        "            elif _mode == 'get':\n",
        "                if var_name not in kwargs:\n",
        "                    kwargs[var_name] = slice(None, None, None)\n",
        "            assert kwargs[var_name] is not None, f\"var {var_name} cannot be None\"\n",
        "        key = tuple([kwargs[var_name] for var_name in self.var_names])\n",
        "        return key\n",
        "\n",
        "    def serialize(self):\n",
        "        return {\n",
        "            \"var_names\": self.var_names,\n",
        "            \"vals\": self.vals,\n",
        "            \"valshape\": self.valshape\n",
        "        }\n",
        "\n",
        "    @classmethod\n",
        "    def deserialize(cls, data):\n",
        "        obj = cls(data[\"var_names\"])\n",
        "        obj.vals = data[\"vals\"]\n",
        "        obj.valshape = data[\"valshape\"]\n",
        "        return obj\n"
      ]
    },
    {
      "cell_type": "code",
      "execution_count": 4,
      "metadata": {
        "id": "IELHGAUBiYpf"
      },
      "outputs": [],
      "source": [
        "def get_cifar10_dataset(n_train, n_test, data_dir = 'data_dir', **kwargs):\n",
        "    classes = kwargs.get(\"classes\", None)\n",
        "    cifar10 = ImageData('cifar10', data_dir, classes=classes)\n",
        "    X_train, y_train = cifar10.get_dataset(n_train, get=\"train\")\n",
        "    X_test, y_test = cifar10.get_dataset(n_test, get=\"test\")\n",
        "    X_train, y_train, X_test, y_test = [torch.Tensor(t).cuda() for t in (X_train, y_train, X_test, y_test)]\n",
        "\n",
        "    X_train = rearrange(X_train, 'Ntrain c h w -> Ntrain (c h w)')\n",
        "    X_test = rearrange(X_test, 'Ntest c h w -> Ntest (c h w)')\n",
        "\n",
        "    if kwargs.get('grayscale', False):\n",
        "        X_train = reduce(X_train, 'N (3 s) -> N s', 'mean')\n",
        "        X_test = reduce(X_test, 'N (3 s) -> N s', 'mean')\n",
        "\n",
        "    if kwargs.get('center', False):\n",
        "        X_mean = reduce(X_train, 'N d -> d', 'mean')\n",
        "        X_train -= X_mean\n",
        "        X_test -= X_mean\n",
        "\n",
        "    if kwargs.get('normalize', False):\n",
        "        X_train /= torch.linalg.norm(X_train, axis=1, keepdims=True)\n",
        "        X_test /= torch.linalg.norm(X_test, axis=1, keepdims=True)\n",
        "        if kwargs.get('center', False):\n",
        "            X_mean = reduce(X_train, 'N d -> d', 'mean')\n",
        "            X_train -= X_mean\n",
        "            X_test -= X_mean\n",
        "\n",
        "    if kwargs.get('whiten', False):\n",
        "        assert not kwargs.get('normalize', False)\n",
        "\n",
        "        X_mean = reduce(X_train, 'N d -> d', 'mean')\n",
        "        X_train -= X_mean\n",
        "        covar = torch.cov(X_train.T)\n",
        "        U, S, _ = torch.linalg.svd(covar)\n",
        "        zca_matrix = U @ torch.diag(1.0 / (torch.sqrt(S) + 1e-5))  @  U.T\n",
        "        X_train = X_train @ zca_matrix\n",
        "        X_test = X_test @ zca_matrix\n",
        "\n",
        "    return X_train, y_train, X_test, y_test"
      ]
    },
    {
      "cell_type": "code",
      "execution_count": 5,
      "metadata": {
        "id": "E1x3SMr_I92L"
      },
      "outputs": [],
      "source": [
        "# plt.rc(\"font\", family='stixgeneral', size=14)\n",
        "# plt.rc(\"mathtext\", fontset='cm')\n",
        "\n",
        "def style_axes(ax, numyticks=5, numxticks=5):\n",
        "    ax.tick_params(axis=\"y\", which=\"both\", bottom=True, top=False,\n",
        "                   labelbottom=True, left=True, right=False,\n",
        "                   labelleft=True, direction='out', length=7, width=1.5, pad=8)#, labelsize=24)\n",
        "    ax.tick_params(axis=\"x\", which=\"both\", bottom=True, top=False,\n",
        "                   labelbottom=True, left=True, right=False,\n",
        "                   labelleft=True, direction='out', length=7, width=1.5, pad=8)#, labelsize=24)\n",
        "    # ax.xaxis.offsetText.set_fontsize(20)\n",
        "    ax.grid(alpha=0.3)\n",
        "    # Remove top/right borders and set linewidth\n",
        "    for spine in [\"top\", \"right\"]:\n",
        "        ax.spines[spine].set_visible(False)\n",
        "    for spine in [\"left\", \"bottom\"]:\n",
        "        ax.spines[spine].set_linewidth(1.5)\n"
      ]
    },
    {
      "cell_type": "code",
      "execution_count": 6,
      "metadata": {
        "id": "Dg6bn4pY6Iik"
      },
      "outputs": [],
      "source": [
        "def full_error(model, dataloader):\n",
        "    model.eval()\n",
        "    test_loss = 0\n",
        "    correct = 0\n",
        "    with torch.no_grad():\n",
        "        for data, target in dataloader:\n",
        "            output = model(data)\n",
        "            d_out = output.shape[1]\n",
        "            test_loss += F.mse_loss(output, target, reduction='sum').item() / d_out\n",
        "            pred = output.argmax(dim=1)\n",
        "            correct += (pred==target.argmax(dim=1)).sum().item()\n",
        "    test_loss /= len(dataloader.dataset)\n",
        "    accuracy = correct / len(dataloader.dataset)\n",
        "    return test_loss, accuracy"
      ]
    },
    {
      "cell_type": "code",
      "execution_count": 44,
      "metadata": {
        "id": "I9Azs2nhJPlY"
      },
      "outputs": [],
      "source": [
        "class ShallowMLP(nn.Module):\n",
        "\n",
        "    def __init__(self, d_in=3072, d_out=10, width=3000, init_scale=1):\n",
        "        super().__init__()\n",
        "        self.readin = nn.Linear(d_in, width, bias=False)\n",
        "        self.readout = nn.Linear(width, d_out, bias=False)\n",
        "\n",
        "        self.init_scale = init_scale\n",
        "        self.width = width\n",
        "        self.d_in = d_in\n",
        "\n",
        "        with torch.no_grad():\n",
        "            self.readin.weight.normal_(0, init_scale)\n",
        "            self.readout.weight.normal_(0, init_scale)\n",
        "\n",
        "    def get_activations(self, x):\n",
        "        h1 = self.readin(x)\n",
        "        h2 = self.readout(F.relu(h1))\n",
        "        return x, h1, h2\n",
        "\n",
        "    def forward(self, x):\n",
        "        _, _, h2 = self.get_activations(x)\n",
        "        return h2\n"
      ]
    },
    {
      "cell_type": "code",
      "execution_count": 20,
      "metadata": {
        "id": "SMNN4HhWui8f"
      },
      "outputs": [],
      "source": [
        "def make_plot(et_train_loss, result=None, fudge_fac=7):\n",
        "    fig, ax = plt.subplots(nrows=1, ncols=1, figsize=(7, 5.1))\n",
        "\n",
        "    t = et_train_loss.get_axis('nstep')\n",
        "    train_loss = et_train_loss[:].squeeze()\n",
        "\n",
        "    ax.plot(t, train_loss, label=\"relu\", color=\"xkcd:azure\", lw=2)\n",
        "    if result:\n",
        "        f = utilmax_lr / (lr/(1-mom)) * fudge_fac\n",
        "        print(f)\n",
        "        ax.step(f*np.array(result[\"t\"]), np.array(result[\"losses\"]), color=\"xkcd:azure\", lw=2, ls=\":\",\n",
        "                marker='o', where=\"post\")\n",
        "\n",
        "    ax.set_title(\"solid=GD, dashed=AGF\", fontsize=14)\n",
        "\n",
        "    ax.set_xscale(\"log\")\n",
        "    ax.set_ylim(0.040, .101)\n",
        "    ax.set_xlabel('gradient steps')\n",
        "    ax.set_ylabel('training loss (MSE)')\n",
        "    ax.legend()\n",
        "    style_axes(ax)\n",
        "\n",
        "\n",
        "    plt.tight_layout()\n",
        "    plt.show()"
      ]
    },
    {
      "cell_type": "markdown",
      "metadata": {
        "id": "st2oZU8cI1X3"
      },
      "source": [
        "# Main expt"
      ]
    },
    {
      "cell_type": "code",
      "execution_count": 8,
      "metadata": {
        "colab": {
          "base_uri": "https://localhost:8080/"
        },
        "id": "GUEBqF9bI0ae",
        "outputId": "7fcbd819-19fc-441a-ad7a-96a8eedf0e46"
      },
      "outputs": [
        {
          "name": "stdout",
          "output_type": "stream",
          "text": [
            "E[norm(x)] = 0.9704\n"
          ]
        }
      ],
      "source": [
        "classes = None\n",
        "n_train = 10000\n",
        "n_test = 2000\n",
        "grayscale = True\n",
        "\n",
        "DATA_DIR = \"~/Documents/datasets\" # <- put your dataset dir\n",
        "X_train, y_train, X_test, y_test = get_cifar10_dataset(n_train, n_test, data_dir=DATA_DIR, classes=classes,\n",
        "                                                       center=True, normalize=False, grayscale=grayscale)\n",
        "# mean center labels\n",
        "y_train -= torch.ones(y_train.shape).cuda() / 10\n",
        "y_test -= torch.ones(y_test.shape).cuda() / 10\n",
        "\n",
        "startidx = 2000\n",
        "X_train = X_train[startidx:startidx+5000]\n",
        "y_train = y_train[startidx:startidx+5000]\n",
        "\n",
        "U, S, Vt = torch.linalg.svd(X_train, full_matrices=False)\n",
        "X_train = U @ Vt * np.sqrt(X_train.shape[0] / X_train.shape[1])\n",
        "print(f'E[norm(x)] = {torch.linalg.norm(X_train, dim=-1).mean().item():.4f}')\n",
        "\n",
        "train_loader = torch.utils.data.DataLoader(torch.utils.data.TensorDataset(X_train, y_train),\n",
        "                                           batch_size=256, shuffle=True)\n",
        "test_loader = torch.utils.data.DataLoader(torch.utils.data.TensorDataset(X_test, y_test),\n",
        "                                          batch_size=2000, shuffle=False)"
      ]
    },
    {
      "cell_type": "code",
      "execution_count": 91,
      "metadata": {
        "colab": {
          "base_uri": "https://localhost:8080/"
        },
        "id": "1COWtn9kJJ7G",
        "outputId": "79227f39-ce29-473e-c470-7ac1b438a500"
      },
      "outputs": [
        {
          "name": "stderr",
          "output_type": "stream",
          "text": [
            "100%|██████████| 400/400 [00:44<00:00,  8.92it/s]\n"
          ]
        }
      ],
      "source": [
        "import copy\n",
        "\n",
        "# Change this back later\n",
        "width = 5\n",
        "init_scale = 1e-10\n",
        "lr = 1\n",
        "mom = 0.9\n",
        "\n",
        "train_loader = torch.utils.data.DataLoader(torch.utils.data.TensorDataset(X_train, y_train),\n",
        "                                           batch_size=256, shuffle=True)\n",
        "\n",
        "ntrials = 1\n",
        "nepochs = 400\n",
        "\n",
        "et_train_loss = ExptTrace([\"nstep\"])\n",
        "\n",
        "d_in, d_out = X_train.shape[-1], y_train.shape[-1]\n",
        "\n",
        "model = ShallowMLP(d_in=d_in, d_out=d_out, width=width, init_scale=init_scale).cuda()\n",
        "model_copy = copy.deepcopy(model.state_dict())\n",
        "\n",
        "optimizer = torch.optim.SGD(model.parameters(), lr=lr, momentum=mom)\n",
        "nsteps = 0\n",
        "for epoch in tqdm(range(nepochs)):\n",
        "    et_train_loss[nsteps] = full_error(model, train_loader)[0]\n",
        "    for batch_idx, (data, target) in enumerate(train_loader):\n",
        "        optimizer.zero_grad()\n",
        "        output = model(data)\n",
        "        loss = F.mse_loss(output, target)\n",
        "        loss.backward()\n",
        "        optimizer.step()\n",
        "        nsteps += 1"
      ]
    },
    {
      "cell_type": "code",
      "execution_count": 92,
      "metadata": {
        "colab": {
          "base_uri": "https://localhost:8080/",
          "height": 516
        },
        "id": "S1FF-ZnHpwSB",
        "outputId": "d6dd1b2e-1f39-4db0-968a-f8054b1e68de"
      },
      "outputs": [
        {
          "data": {
            "image/png": "[encoded data removed]",
            "text/plain": [
              "<Figure size 700x510 with 1 Axes>"
            ]
          },
          "metadata": {},
          "output_type": "display_data"
        }
      ],
      "source": [
        "make_plot(et_train_loss)"
      ]
    },
    {
      "cell_type": "markdown",
      "metadata": {
        "id": "WtxqzCTQDzDl"
      },
      "source": [
        "### AGF"
      ]
    },
    {
      "cell_type": "code",
      "execution_count": 93,
      "metadata": {
        "colab": {
          "base_uri": "https://localhost:8080/"
        },
        "id": "NBVEuOefDzDl",
        "outputId": "edf830c3-eb55-4244-c6a4-e08577ed9fa7"
      },
      "outputs": [
        {
          "name": "stderr",
          "output_type": "stream",
          "text": [
            "\r  0%|          | 0/10 [00:00<?, ?it/s]"
          ]
        },
        {
          "name": "stdout",
          "output_type": "stream",
          "text": [
            "loss: 0.08953\n"
          ]
        },
        {
          "name": "stderr",
          "output_type": "stream",
          "text": [
            "\r 10%|█         | 1/10 [00:15<02:16, 15.14s/it]"
          ]
        },
        {
          "name": "stdout",
          "output_type": "stream",
          "text": [
            "loss: 0.08576\n"
          ]
        },
        {
          "name": "stderr",
          "output_type": "stream",
          "text": [
            "\r 20%|██        | 2/10 [00:18<01:06,  8.36s/it]"
          ]
        },
        {
          "name": "stdout",
          "output_type": "stream",
          "text": [
            "loss: 0.08202\n"
          ]
        },
        {
          "name": "stderr",
          "output_type": "stream",
          "text": [
            "\r 30%|███       | 3/10 [00:22<00:44,  6.33s/it]"
          ]
        },
        {
          "name": "stdout",
          "output_type": "stream",
          "text": [
            "loss: 0.07749\n"
          ]
        },
        {
          "name": "stderr",
          "output_type": "stream",
          "text": [
            "\r 40%|████      | 4/10 [00:26<00:32,  5.38s/it]"
          ]
        },
        {
          "name": "stdout",
          "output_type": "stream",
          "text": [
            "loss: 0.07473\n"
          ]
        },
        {
          "name": "stderr",
          "output_type": "stream",
          "text": [
            "\r 40%|████      | 4/10 [00:31<00:46,  7.82s/it]"
          ]
        },
        {
          "name": "stdout",
          "output_type": "stream",
          "text": [
            "[]\n"
          ]
        },
        {
          "name": "stderr",
          "output_type": "stream",
          "text": [
            "\n"
          ]
        }
      ],
      "source": [
        "class Neuron(nn.Module):\n",
        "\n",
        "    def __init__(self, d_in, d_out, nonlin=nn.Identity, init_sz=1):\n",
        "        super().__init__()\n",
        "        self.w = nn.Linear(d_in, 1, bias=False)\n",
        "        self.a = nn.Linear(1, d_out, bias=False)\n",
        "        with torch.no_grad():\n",
        "            self.w.weight.mul_(init_sz)\n",
        "            self.a.weight.mul_(init_sz)\n",
        "        self.nonlin = nonlin()\n",
        "        self.active = False\n",
        "        self.util_acc = 0\n",
        "        self.c_a = np.log(1/self.get_norm().item()) # is this right?\n",
        "\n",
        "        self.normalize()\n",
        "\n",
        "    def forward(self, x):\n",
        "        return self.a(self.nonlin(self.w(x)))\n",
        "\n",
        "    def get_norm(self):\n",
        "        sqnorm = lambda x: torch.linalg.norm(x.weight)**2\n",
        "        norm = torch.sqrt(sqnorm(self.w) + sqnorm(self.a))\n",
        "        return norm\n",
        "\n",
        "    def load_init(self, w, a):\n",
        "        with torch.no_grad():\n",
        "            self.w.weight.copy_(w)\n",
        "            self.a.weight.copy_(a)\n",
        "        self.c_a = np.log(1/self.get_norm().item()) # is this right?\n",
        "\n",
        "    def normalize(self):\n",
        "        norm = self.get_norm()\n",
        "        with torch.no_grad():\n",
        "            self.w.weight.div_(norm)\n",
        "            self.a.weight.div_(norm)\n",
        "\n",
        "    def utility_step(self, x, residual, learning_rate):\n",
        "        f_i = self(x)\n",
        "        util = torch.einsum('nd,nd->n',  f_i, residual).mean()\n",
        "        self.util_acc += 2 * learning_rate * util.item()\n",
        "\n",
        "        util.backward()\n",
        "        with torch.no_grad():\n",
        "            self.w.weight += learning_rate * self.w.weight.grad\n",
        "            self.a.weight += learning_rate * self.a.weight.grad\n",
        "            self.w.weight.grad.zero_()\n",
        "            self.a.weight.grad.zero_()\n",
        "            self.normalize()\n",
        "\n",
        "\n",
        "class Network(nn.Module):\n",
        "\n",
        "    def __init__(self, d_in, d_out, nonlin=nn.Identity, init_sz=1, width=100):\n",
        "        super().__init__()\n",
        "        neurons = [Neuron(d_in, d_out, nonlin, init_sz) for _ in range(width)]\n",
        "        self.neurons = nn.ModuleList(neurons)\n",
        "        self.set_mode(\"utilmax\")\n",
        "        self.d_out = d_out\n",
        "\n",
        "    def load_init(self, W, A):\n",
        "        for i, n in enumerate(self.neurons):\n",
        "            w, a = W[i][None, :], A[:, i][:, None]\n",
        "            n.load_init(w, a)\n",
        "\n",
        "    def dormant(self):\n",
        "        return [neuron for neuron in self.neurons if not neuron.active]\n",
        "\n",
        "    def active(self):\n",
        "        return [neuron for neuron in self.neurons if neuron.active]\n",
        "\n",
        "    def set_mode(self, mode):\n",
        "        if mode not in [\"utilmax\", \"costmin\"]:\n",
        "            raise ValueError(\"mode must be utilmax or costmin\")\n",
        "        self.mode = mode\n",
        "        for neuron in self.neurons:\n",
        "            grad_on = (mode==\"utilmax\") ^ neuron.active\n",
        "            for param in neuron.parameters():\n",
        "                param.requires_grad = grad_on\n",
        "\n",
        "    def forward(self, x):\n",
        "        if not np.any([n.active for n in self.neurons]):\n",
        "            return torch.zeros(x.shape[0], self.d_out).cuda()\n",
        "        else:\n",
        "            outputs = torch.stack([neuron(x) for neuron in self.neurons if neuron.active], dim=0)\n",
        "            return torch.sum(outputs, dim=0)\n",
        "\n",
        "\n",
        "def train_agf(X_train, Y_train, init_sz=1e-3, agf_steps=5, nonlin=nn.Identity, load_init=None,\n",
        "              utilmax_lr=1, costmin_lr=1, costmin_maxiter=2_000, loss_thresh=1e-4):\n",
        "    # Initialize\n",
        "    d_in, d_out = X_train.shape[-1], Y_train.shape[-1]\n",
        "    if load_init:\n",
        "        W, A = load_init[\"W\"], load_init[\"A\"]\n",
        "        width = W.shape[0]\n",
        "        net = Network(d_in, d_out, nonlin, init_sz, width=width).cuda()\n",
        "        net.load_init(W, A)\n",
        "    else:\n",
        "        net = Network(d_in, d_out, nonlin, init_sz, width=agf_steps).cuda()\n",
        "\n",
        "    def update_results(results, t):\n",
        "        results[\"t\"].append(t)\n",
        "        residual = (Y_train - net(X_train))\n",
        "        residual = residual.detach()\n",
        "        results[\"residuals\"].append(residual)\n",
        "        loss = (residual**2).mean().item()\n",
        "        results[\"losses\"].append(loss)\n",
        "        results[\"models\"].append(net.state_dict())\n",
        "\n",
        "    results = {\n",
        "        \"t\": [],\n",
        "        \"residuals\": [],\n",
        "        \"losses\": [],\n",
        "        \"models\": [],\n",
        "    }\n",
        "    t = 0\n",
        "    update_results(results, t)\n",
        "    for _ in tqdm(range(agf_steps)):\n",
        "\n",
        "        # Utility Maximization\n",
        "        residual = (1/d_out) * 2*(Y_train - net(X_train))\n",
        "        residual = residual.detach()\n",
        "        iters = 0\n",
        "        mode = \"utilmax\"\n",
        "        while mode == \"utilmax\":\n",
        "            for n in net.neurons:\n",
        "                if n.active:\n",
        "                    continue\n",
        "                n.utility_step(X_train, residual, utilmax_lr)\n",
        "                if n.util_acc > n.c_a:\n",
        "                    n.active = True\n",
        "                    mode = \"costmin\"\n",
        "            iters += 1\n",
        "        net.set_mode(mode)\n",
        "        t += iters\n",
        "\n",
        "        residual = Y_train - net(X_train)\n",
        "        print(f\"loss: {(residual ** 2).mean().item():.5f}\")\n",
        "\n",
        "        # Cost Minimization\n",
        "        optimizer = torch.optim.SGD(net.parameters(), lr=costmin_lr, momentum=0.9)\n",
        "        for i in range(int(costmin_maxiter)):\n",
        "            optimizer.zero_grad(set_to_none=False)\n",
        "            residual = Y_train - net(X_train)\n",
        "            loss = (residual ** 2).mean()\n",
        "            loss.backward()\n",
        "            optimizer.step()\n",
        "        net.set_mode(\"utilmax\")\n",
        "        update_results(results, t)\n",
        "\n",
        "        if not net.dormant() or loss.item() < loss_thresh:\n",
        "            print(net.dormant())\n",
        "            break\n",
        "\n",
        "    return results\n",
        "\n",
        "utilmax_lr = 10\n",
        "init_weights = {\n",
        "    \"W\": model_copy[\"readin.weight\"].detach(),\n",
        "    \"A\": model_copy[\"readout.weight\"].detach(),\n",
        "}\n",
        "result = train_agf(X_train, y_train, init_sz=1e-1, agf_steps=10, nonlin=nn.ReLU, load_init=init_weights,\n",
        "              utilmax_lr=utilmax_lr, costmin_lr=1, costmin_maxiter=2_000, loss_thresh=1e-4)"
      ]
    },
    {
      "cell_type": "code",
      "execution_count": 94,
      "metadata": {
        "colab": {
          "base_uri": "https://localhost:8080/",
          "height": 534
        },
        "id": "59T62Bhfrbig",
        "outputId": "48c6bb02-527c-465a-9f81-aa82ee7d7e2c"
      },
      "outputs": [
        {
          "name": "stdout",
          "output_type": "stream",
          "text": [
            "1.0999999999999999\n"
          ]
        },
        {
          "data": {
            "image/png": "[encoded data removed]",
            "text/plain": [
              "<Figure size 700x510 with 1 Axes>"
            ]
          },
          "metadata": {},
          "output_type": "display_data"
        }
      ],
      "source": [
        "make_plot(et_train_loss, result, fudge_fac=1.1)"
      ]
    },
    {
      "cell_type": "code",
      "execution_count": null,
      "metadata": {
        "id": "4a05vc1eyrqS"
      },
      "outputs": [],
      "source": []
    }
  ],
  "metadata": {
    "accelerator": "GPU",
    "colab": {
      "gpuType": "T4",
      "provenance": []
    },
    "kernelspec": {
      "display_name": "research",
      "language": "python",
      "name": "python3"
    },
    "language_info": {
      "codemirror_mode": {
        "name": "ipython",
        "version": 3
      },
      "file_extension": ".py",
      "mimetype": "text/x-python",
      "name": "python",
      "nbconvert_exporter": "python",
      "pygments_lexer": "ipython3",
      "version": "3.12.2"
    }
  },
  "nbformat": 4,
  "nbformat_minor": 0
}
