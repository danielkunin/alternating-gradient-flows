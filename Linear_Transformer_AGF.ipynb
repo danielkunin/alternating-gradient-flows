{
 "cells": [
  {
   "cell_type": "code",
   "execution_count": 9,
   "metadata": {},
   "outputs": [],
   "source": [
    "import torch\n",
    "import torch.nn as nn\n",
    "import torch.nn.functional as F\n",
    "from tqdm import tqdm\n",
    "import numpy as np\n",
    "from matplotlib import pyplot as plt"
   ]
  },
  {
   "cell_type": "code",
   "execution_count": 10,
   "metadata": {},
   "outputs": [],
   "source": [
    "def style_axes(ax, numyticks=5, numxticks=5):\n",
    "    ax.tick_params(axis=\"y\", which=\"both\", bottom=True, top=False,\n",
    "                   labelbottom=True, left=True, right=False,\n",
    "                   labelleft=True, direction='out', length=7, width=1.5, pad=8, labelsize=24)\n",
    "    # ax.yaxis.set_major_locator(plt.MaxNLocator(numyticks))\n",
    "\n",
    "    ax.tick_params(axis=\"x\", which=\"both\", bottom=True, top=False,\n",
    "                   labelbottom=True, left=True, right=False,\n",
    "                   labelleft=True, direction='out', length=7, width=1.5, pad=8, labelsize=24)\n",
    "    # ax.xaxis.set_major_locator(plt.MaxNLocator(numxticks))\n",
    "\n",
    "    ax.xaxis.offsetText.set_fontsize(20)\n",
    "    ax.grid()\n",
    "\n",
    "    # Remove top/right borders and set linewidth\n",
    "    for spine in [\"top\", \"right\"]:\n",
    "        ax.spines[spine].set_visible(False)\n",
    "    for spine in [\"left\", \"bottom\"]:\n",
    "        ax.spines[spine].set_linewidth(3)"
   ]
  },
  {
   "cell_type": "code",
   "execution_count": 11,
   "metadata": {},
   "outputs": [],
   "source": [
    "class LinearAttention(nn.Module):\n",
    "    def __init__(self, embed_dim, num_heads):\n",
    "        super().__init__()\n",
    "        assert embed_dim % num_heads == 0, \"embed_dim must be divisible by num_heads\"\n",
    "        self.embed_dim = embed_dim\n",
    "        self.num_heads = num_heads\n",
    "        self.head_dim = embed_dim // num_heads\n",
    "\n",
    "        # Define separate Q, K, and V for each head explicitly\n",
    "        self.W_Q = nn.Parameter(torch.randn(num_heads, self.head_dim, embed_dim))\n",
    "        self.W_K = nn.Parameter(torch.randn(num_heads, self.head_dim, embed_dim))\n",
    "        self.W_V = nn.Parameter(torch.randn(num_heads, embed_dim, embed_dim).abs())\n",
    "\n",
    "    def forward(self, X):\n",
    "        \"\"\"\n",
    "        X: Tensor of shape [batch_size, seq_len, embed_dim]\n",
    "        \"\"\"\n",
    "        batch_size, embed_dim, seq_len = X.shape\n",
    "        N = seq_len\n",
    "\n",
    "        output = X.clone()  # Residual connection\n",
    "\n",
    "        for i in range(self.num_heads):\n",
    "            # Compute Q, K, V\n",
    "            Q = self.W_Q[i] @ X  # [batch_size, embed_dim, seq_len]\n",
    "            K = self.W_K[i] @ X  # [batch_size, embed_dim, seq_len]\n",
    "            V = self.W_V[i] @ X  # [batch_size, embed_dim, seq_len]\n",
    "\n",
    "            # Attention scores (batch_size x seq_len x seq_len)\n",
    "            scores = torch.bmm(K.transpose(1, 2), Q)  # [batch_size, seq_len, seq_len]\n",
    "\n",
    "            attn_weights = scores  # [batch_size, seq_len, seq_len]\n",
    "\n",
    "            # Weighted sum\n",
    "            head_output = torch.bmm(V, attn_weights)  # [batch_size, seq_len, embed_dim]\n",
    "\n",
    "            # Add head output to total\n",
    "            output = output + head_output\n",
    "\n",
    "        return output"
   ]
  },
  {
   "cell_type": "code",
   "execution_count": 12,
   "metadata": {},
   "outputs": [],
   "source": [
    "torch.manual_seed(0)\n",
    "\n",
    "D = 4\n",
    "N = 32\n",
    "\n",
    "eigenvalues = torch.tensor([1,2,3,4])\n",
    "eigenvalues = 1/eigenvalues\n",
    "eigenvalues = eigenvalues/eigenvalues.sum()*2\n",
    "Q, _ = torch.linalg.qr(torch.randn(D, D))\n",
    "covariance_matrix = Q @ torch.diag(eigenvalues) @ Q.T\n",
    "covariance_matrix = (covariance_matrix + covariance_matrix.T) / 2\n",
    "L = torch.linalg.cholesky(covariance_matrix).cuda()\n",
    "\n",
    "def generate_data(B):\n",
    "    xs = torch.randn(B, N+1, D,device=\"cuda\") @ L.T\n",
    "    w = torch.randn(B, D, 1,device=\"cuda\")\n",
    "    ys = torch.bmm(xs, w)\n",
    "    y = ys[:, -1, :].clone()\n",
    "    X = torch.cat([xs, ys], dim=-1)\n",
    "    X[:, -1, -1] = 0\n",
    "    return X, y"
   ]
  },
  {
   "cell_type": "code",
   "execution_count": 13,
   "metadata": {},
   "outputs": [],
   "source": [
    "model=LinearAttention(D+1, 5).cuda()\n",
    "with torch.no_grad():\n",
    "    model.W_V[:,:,:-1].zero_()\n",
    "    model.W_V[:,:-1,:].zero_()\n",
    "    model.W_K[:,:,-1].zero_()\n",
    "    model.W_Q[:,:,-1].zero_()\n",
    "\n",
    "alpha=0.001\n",
    "\n",
    "for param in model.parameters():\n",
    "    param.data = alpha * param.data\n",
    "\n",
    "with torch.no_grad():\n",
    "    Vbar_=model.W_V[:,-1,-1].clone()\n",
    "    Kbar_=model.W_K[:,-1,:-1].clone()\n",
    "    Qbar_=model.W_Q[:,-1,:-1].clone()"
   ]
  },
  {
   "cell_type": "code",
   "execution_count": 5,
   "metadata": {},
   "outputs": [
    {
     "name": "stderr",
     "output_type": "stream",
     "text": [
      "  0%|          | 18/100000 [00:00<17:56, 92.89it/s] "
     ]
    },
    {
     "name": "stdout",
     "output_type": "stream",
     "text": [
      "Step 0, Loss: 1.000489354133606\n"
     ]
    },
    {
     "name": "stderr",
     "output_type": "stream",
     "text": [
      "  5%|▌         | 5030/100000 [00:27<08:41, 182.06it/s]"
     ]
    },
    {
     "name": "stdout",
     "output_type": "stream",
     "text": [
      "Step 5000, Loss: 0.5653096437454224\n"
     ]
    },
    {
     "name": "stderr",
     "output_type": "stream",
     "text": [
      " 10%|█         | 10022/100000 [00:54<08:07, 184.55it/s]"
     ]
    },
    {
     "name": "stdout",
     "output_type": "stream",
     "text": [
      "Step 10000, Loss: 0.5746280550956726\n"
     ]
    },
    {
     "name": "stderr",
     "output_type": "stream",
     "text": [
      " 15%|█▌        | 15037/100000 [01:22<07:44, 182.92it/s]"
     ]
    },
    {
     "name": "stdout",
     "output_type": "stream",
     "text": [
      "Step 15000, Loss: 0.3705016076564789\n"
     ]
    },
    {
     "name": "stderr",
     "output_type": "stream",
     "text": [
      " 20%|██        | 20019/100000 [01:49<07:19, 181.98it/s]"
     ]
    },
    {
     "name": "stdout",
     "output_type": "stream",
     "text": [
      "Step 20000, Loss: 0.35145607590675354\n"
     ]
    },
    {
     "name": "stderr",
     "output_type": "stream",
     "text": [
      " 25%|██▌       | 25020/100000 [02:17<06:48, 183.59it/s]"
     ]
    },
    {
     "name": "stdout",
     "output_type": "stream",
     "text": [
      "Step 25000, Loss: 0.3507485091686249\n"
     ]
    },
    {
     "name": "stderr",
     "output_type": "stream",
     "text": [
      " 30%|███       | 30033/100000 [02:44<06:30, 179.23it/s]"
     ]
    },
    {
     "name": "stdout",
     "output_type": "stream",
     "text": [
      "Step 30000, Loss: 0.34890586137771606\n"
     ]
    },
    {
     "name": "stderr",
     "output_type": "stream",
     "text": [
      " 35%|███▌      | 35035/100000 [03:12<05:51, 184.65it/s]"
     ]
    },
    {
     "name": "stdout",
     "output_type": "stream",
     "text": [
      "Step 35000, Loss: 0.34987401962280273\n"
     ]
    },
    {
     "name": "stderr",
     "output_type": "stream",
     "text": [
      " 40%|████      | 40031/100000 [03:39<05:24, 184.64it/s]"
     ]
    },
    {
     "name": "stdout",
     "output_type": "stream",
     "text": [
      "Step 40000, Loss: 0.21972544491291046\n"
     ]
    },
    {
     "name": "stderr",
     "output_type": "stream",
     "text": [
      " 45%|████▌     | 45027/100000 [04:06<04:59, 183.29it/s]"
     ]
    },
    {
     "name": "stdout",
     "output_type": "stream",
     "text": [
      "Step 45000, Loss: 0.22092723846435547\n"
     ]
    },
    {
     "name": "stderr",
     "output_type": "stream",
     "text": [
      " 50%|█████     | 50032/100000 [04:34<04:32, 183.06it/s]"
     ]
    },
    {
     "name": "stdout",
     "output_type": "stream",
     "text": [
      "Step 50000, Loss: 0.22854378819465637\n"
     ]
    },
    {
     "name": "stderr",
     "output_type": "stream",
     "text": [
      " 55%|█████▌    | 55019/100000 [05:01<04:06, 182.37it/s]"
     ]
    },
    {
     "name": "stdout",
     "output_type": "stream",
     "text": [
      "Step 55000, Loss: 0.22456207871437073\n"
     ]
    },
    {
     "name": "stderr",
     "output_type": "stream",
     "text": [
      " 60%|██████    | 60027/100000 [05:29<03:38, 182.66it/s]"
     ]
    },
    {
     "name": "stdout",
     "output_type": "stream",
     "text": [
      "Step 60000, Loss: 0.2256338894367218\n"
     ]
    },
    {
     "name": "stderr",
     "output_type": "stream",
     "text": [
      " 65%|██████▌   | 65019/100000 [05:56<03:12, 181.35it/s]"
     ]
    },
    {
     "name": "stdout",
     "output_type": "stream",
     "text": [
      "Step 65000, Loss: 0.2287624478340149\n"
     ]
    },
    {
     "name": "stderr",
     "output_type": "stream",
     "text": [
      " 70%|███████   | 70034/100000 [06:24<02:45, 181.34it/s]"
     ]
    },
    {
     "name": "stdout",
     "output_type": "stream",
     "text": [
      "Step 70000, Loss: 0.22676464915275574\n"
     ]
    },
    {
     "name": "stderr",
     "output_type": "stream",
     "text": [
      " 75%|███████▌  | 75030/100000 [06:52<02:17, 181.65it/s]"
     ]
    },
    {
     "name": "stdout",
     "output_type": "stream",
     "text": [
      "Step 75000, Loss: 0.133367657661438\n"
     ]
    },
    {
     "name": "stderr",
     "output_type": "stream",
     "text": [
      " 80%|████████  | 80023/100000 [07:19<01:49, 181.82it/s]"
     ]
    },
    {
     "name": "stdout",
     "output_type": "stream",
     "text": [
      "Step 80000, Loss: 0.1347995400428772\n"
     ]
    },
    {
     "name": "stderr",
     "output_type": "stream",
     "text": [
      " 85%|████████▌ | 85034/100000 [07:46<01:22, 181.45it/s]"
     ]
    },
    {
     "name": "stdout",
     "output_type": "stream",
     "text": [
      "Step 85000, Loss: 0.13221988081932068\n"
     ]
    },
    {
     "name": "stderr",
     "output_type": "stream",
     "text": [
      " 90%|█████████ | 90030/100000 [08:14<00:54, 183.76it/s]"
     ]
    },
    {
     "name": "stdout",
     "output_type": "stream",
     "text": [
      "Step 90000, Loss: 0.13438217341899872\n"
     ]
    },
    {
     "name": "stderr",
     "output_type": "stream",
     "text": [
      " 95%|█████████▌| 95027/100000 [08:41<00:27, 182.92it/s]"
     ]
    },
    {
     "name": "stdout",
     "output_type": "stream",
     "text": [
      "Step 95000, Loss: 0.13673637807369232\n"
     ]
    },
    {
     "name": "stderr",
     "output_type": "stream",
     "text": [
      "100%|██████████| 100000/100000 [09:08<00:00, 182.18it/s]\n"
     ]
    }
   ],
   "source": [
    "#GD optimization\n",
    "\n",
    "optimizer = torch.optim.SGD(model.parameters(), lr=0.01)\n",
    "\n",
    "loss_list=[]\n",
    "model_list=[]\n",
    "B=8192\n",
    "\n",
    "for step in tqdm(range(100000)):\n",
    "    (X, y) = generate_data(B)\n",
    "    X = X.transpose(1,2)\n",
    "    optimizer.zero_grad()\n",
    "    output = model(X)\n",
    "    y_pred = output[:,-1,-1]\n",
    "    loss = ((y_pred.squeeze()-y.squeeze())**2).mean()/2\n",
    "    loss.backward()\n",
    "    optimizer.step()\n",
    "    loss_list.append(loss.item())\n",
    "    model_list.append([model.W_V.detach().cpu(),model.W_K.detach().cpu(),model.W_Q.detach().cpu()])\n",
    "    if step % 5000 == 0:\n",
    "        print(f\"Step {step}, Loss: {loss.item()}\")"
   ]
  },
  {
   "cell_type": "code",
   "execution_count": 6,
   "metadata": {},
   "outputs": [],
   "source": [
    "#AGF\n",
    "def model_func(wv,wk,wq,x):\n",
    "    yn=x[:,-1,None,:-1]\n",
    "    xn=x[:,:-1,:-1]\n",
    "    yx=torch.bmm(yn,xn.transpose(1,2))\n",
    "    xn1=x[:,:-1,-1]\n",
    "    yn1=torch.zeros_like(x[:,-1,-1])\n",
    "    for i in range(D):\n",
    "        yn1+=wv[i]*(yx@wk[i]).squeeze()*(xn1@wq[i])\n",
    "    return yn1\n",
    "def head_func(wv,wk,wq,x):\n",
    "    yn=x[:,-1,None,:-1]\n",
    "    xn=x[:,:-1,:-1]\n",
    "    yx=torch.bmm(yn,xn.transpose(1,2))\n",
    "    xn1=x[:,:-1,-1]\n",
    "    return wv*(yx@wk).squeeze()*(xn1@wq)"
   ]
  },
  {
   "cell_type": "code",
   "execution_count": 7,
   "metadata": {},
   "outputs": [],
   "source": [
    "Vbar=[]\n",
    "Kbar=[]\n",
    "Qbar=[]\n",
    "for i in range(D+1):\n",
    "    Vbar.append(torch.nn.Parameter(Vbar_[i].clone().detach()))\n",
    "    Kbar.append(torch.nn.Parameter(Kbar_[i].clone().detach()))\n",
    "    Qbar.append(torch.nn.Parameter(Qbar_[i].clone().detach()))"
   ]
  },
  {
   "cell_type": "code",
   "execution_count": 8,
   "metadata": {},
   "outputs": [
    {
     "name": "stderr",
     "output_type": "stream",
     "text": [
      "  4%|▍         | 4260/100000 [00:28<10:33, 151.06it/s]"
     ]
    },
    {
     "name": "stdout",
     "output_type": "stream",
     "text": [
      "3\n"
     ]
    },
    {
     "name": "stderr",
     "output_type": "stream",
     "text": [
      " 12%|█▏        | 12403/100000 [01:18<08:24, 173.66it/s]"
     ]
    },
    {
     "name": "stdout",
     "output_type": "stream",
     "text": [
      "0\n"
     ]
    },
    {
     "name": "stderr",
     "output_type": "stream",
     "text": [
      " 37%|███▋      | 36610/100000 [03:19<04:58, 212.24it/s] "
     ]
    },
    {
     "name": "stdout",
     "output_type": "stream",
     "text": [
      "1\n"
     ]
    },
    {
     "name": "stderr",
     "output_type": "stream",
     "text": [
      " 70%|███████   | 70355/100000 [05:38<01:55, 256.06it/s] "
     ]
    },
    {
     "name": "stdout",
     "output_type": "stream",
     "text": [
      "4\n"
     ]
    },
    {
     "name": "stderr",
     "output_type": "stream",
     "text": [
      "100%|██████████| 100000/100000 [07:15<00:00, 229.54it/s]\n"
     ]
    }
   ],
   "source": [
    "optimizer_list=[]\n",
    "kappa=3\n",
    "lr=0.01\n",
    "for i in range(D+1):\n",
    "    optimizer_list.append(torch.optim.SGD([Vbar[i],Kbar[i],Qbar[i]], lr=lr))\n",
    "s_list=torch.zeros(D+1).cuda()\n",
    "\n",
    "qbar_list=[]\n",
    "kbar_list=[]\n",
    "vbar_list=[]\n",
    "\n",
    "meta_s_list=[]\n",
    "meta_utility_list=[]\n",
    "meta_norm_list=[]\n",
    "active_list=[]\n",
    "dormant_list=list(range(D+1))\n",
    "t_list=[]\n",
    "loss_list_agf=[]\n",
    "for _ in tqdm(range(100000)):\n",
    "    (X, y) = generate_data(B)\n",
    "    X = X.transpose(1,2)\n",
    "    utility_list=[]\n",
    "    with torch.no_grad():   \n",
    "        y_pred = torch.zeros_like(y.squeeze())\n",
    "        for i in active_list:\n",
    "            y_pred+=head_func(Vbar[i],Kbar[i],Qbar[i],X)\n",
    "    for i in dormant_list:\n",
    "        optimizer_list[i].zero_grad()\n",
    "        utility=-((y.squeeze()-y_pred)*head_func(Vbar[i],Kbar[i],Qbar[i],X)).mean()\n",
    "        (utility).backward()\n",
    "        optimizer_list[i].step()\n",
    "        s_list[i]+=-utility.detach()*kappa*lr\n",
    "        utility_list.append(-utility.item()) \n",
    "    \n",
    "    norm_list=[]\n",
    "    with torch.no_grad():\n",
    "        for i in range(D+1):\n",
    "            nm=Vbar[i]**2+(Kbar[i]**2).sum(dim=-1)+(Qbar[i]**2).sum(dim=-1)\n",
    "            nm=nm.sqrt()\n",
    "            norm_list.append(nm)\n",
    "    norm_list=torch.stack(norm_list)\n",
    "    meta_norm_list.append(norm_list.cpu().numpy())\n",
    "    \n",
    "    norm_list=norm_list[dormant_list]\n",
    "    \n",
    "    if (norm_list>=1).any():\n",
    "        t_list.append(_)\n",
    "        # cost minimization\n",
    "        # find the one\n",
    "        index = dormant_list[torch.where(norm_list>=1)[0][0].item()]\n",
    "        print(index)\n",
    "        active_list.append(index)\n",
    "        dormant_list.remove(index)\n",
    "        \n",
    "        for _ in range(2000):\n",
    "            (X, y) = generate_data(B)\n",
    "            y = y.squeeze()\n",
    "            X = X.transpose(1,2)\n",
    "            y_pred = torch.zeros_like(y)\n",
    "            for i in active_list:\n",
    "                y_pred+=head_func(Vbar[i],Kbar[i],Qbar[i],X)\n",
    "                loss = 1/2*((y_pred.squeeze()-y.squeeze())**2).mean()\n",
    "            for i in active_list:\n",
    "                optimizer_list[i].zero_grad()\n",
    "            loss.backward()\n",
    "            for i in active_list:\n",
    "                optimizer_list[i].step()\n",
    "        \n",
    "        loss_list_agf.append(loss.item())\n",
    "        \n",
    "    qbar_list.append([Qbar[i].detach().cpu() for i in range(D+1)])\n",
    "    kbar_list.append([Kbar[i].detach().cpu() for i in range(D+1)])\n",
    "    vbar_list.append([Vbar[i].detach().cpu() for i in range(D+1)])\n",
    "    meta_s_list.append(s_list.cpu().numpy())\n",
    "    meta_utility_list.append(utility_list)"
   ]
  },
  {
   "cell_type": "code",
   "execution_count": 19,
   "metadata": {},
   "outputs": [],
   "source": [
    "cumsum=eigenvalues/(1+(1+eigenvalues.sum()/eigenvalues)/N)\n",
    "cumsum=cumsum.cumsum(0)\n",
    "cumsum=torch.cat([torch.tensor([0]),cumsum])\n",
    "levels=eigenvalues.sum()-cumsum"
   ]
  },
  {
   "cell_type": "code",
   "execution_count": 117,
   "metadata": {},
   "outputs": [
    {
     "data": {
      "image/png": "[encoded data removed]",
      "text/plain": [
       "<Figure size 600x500 with 1 Axes>"
      ]
     },
     "metadata": {},
     "output_type": "display_data"
    }
   ],
   "source": [
    "# Plot loss vs. epochs\n",
    "fig, ax = plt.subplots(figsize=(6, 5))\n",
    "ax.plot(loss_list, label='Online Gradient Descent', linewidth=1)\n",
    "color_map = plt.get_cmap(name='tab10')\n",
    "\n",
    "# Labels and title\n",
    "ax.set_xlabel(\"Epochs\", fontsize=24)\n",
    "ax.set_ylabel(\"Train Loss\", fontsize=24)\n",
    "ax.set_xscale('log')\n",
    "ax.set_yscale('log')\n",
    "\n",
    "\n",
    "\n",
    "# Loss levels (horizontal lines)\n",
    "for i, loss in enumerate(levels):\n",
    "    color = \"grey\" if i == 0 else color_map(i - 1)\n",
    "    ax.axhline(y=loss/2, color=color, alpha=0.5, linestyle='dotted', linewidth=2)\n",
    "\n",
    "# Jump times (vertical lines)\n",
    "taus = t_list\n",
    "for i, tau in enumerate(taus):\n",
    "    ax.axvline(x=tau, color=color_map(i), alpha=0.5, linestyle='dashed', linewidth=2)\n",
    "\n",
    "# Levels and Jumps (step line)\n",
    "maxepoch = taus[-1]\n",
    "t_steps = [0] + [tau for tau in taus] + [100001]\n",
    "l_steps =  [loss/2 for loss in levels] + [levels[-1]/2]\n",
    "ax.step(t_steps, l_steps, where='post', color='k', linestyle='--', lw=2, label='AGF Theory')\n",
    "\n",
    "ax.set_xlim(1000,100000)\n",
    "\n",
    "# Style the axes\n",
    "style_axes(ax)\n",
    "#turn_off_grid\n",
    "ax.grid(False)\n",
    "# ax.legend(fontsize=20)\n",
    "plt.savefig(\"loss.pdf\", format=\"pdf\", bbox_inches=\"tight\")\n",
    "plt.show()"
   ]
  },
  {
   "cell_type": "code",
   "execution_count": 110,
   "metadata": {},
   "outputs": [
    {
     "name": "stderr",
     "output_type": "stream",
     "text": [
      "100%|██████████| 100000/100000 [00:19<00:00, 5088.31it/s]\n"
     ]
    }
   ],
   "source": [
    "svalue_history=[]\n",
    "for i in tqdm(range(len(model_list))):\n",
    "    v,q,k=model_list[i]\n",
    "    vbar=v[:,-1,-1][:,None,None]\n",
    "    qbar=q[:,:,:D]\n",
    "    kbar=k[:,:,:D]\n",
    "    u,s,v=torch.linalg.svd((vbar*torch.bmm(kbar.transpose(1,2),qbar)).sum(axis=0))\n",
    "    #figuring out the order\n",
    "    innerproduct=(u.T@Q).abs()\n",
    "    order_list=[]\n",
    "    for i in range(len(innerproduct)):\n",
    "        order_list.append(innerproduct[i].argmax())\n",
    "    order_list=torch.tensor(order_list)\n",
    "    s=s[order_list]\n",
    "    \n",
    "    svalue_history.append(s)\n",
    "svalue_history=torch.stack(svalue_history)"
   ]
  },
  {
   "cell_type": "code",
   "execution_count": 116,
   "metadata": {},
   "outputs": [
    {
     "data": {
      "image/png": "[encoded data removed]",
      "text/plain": [
       "<Figure size 600x500 with 1 Axes>"
      ]
     },
     "metadata": {},
     "output_type": "display_data"
    }
   ],
   "source": [
    "\n",
    "# Plot loss vs. epochs\n",
    "fig, ax = plt.subplots(figsize=(6, 5))\n",
    "color_map = plt.get_cmap(name='tab10')\n",
    "\n",
    "singular_values = np.array(svalue_history)\n",
    "for i in range(singular_values.shape[1]):\n",
    "    ax.plot(singular_values[:,i], label='Singular Value {}'.format(i), linewidth=3)\n",
    "\n",
    "# Labels and title\n",
    "ax.set_xlabel(\"Epochs\", fontsize=24)\n",
    "ax.set_ylabel(\"Singular Value\", fontsize=24)\n",
    "ax.set_xscale('log')\n",
    "# ax.set_yscale('log')\n",
    "# ax.set_ylim(1e-6, loss_history[0] * 2)\n",
    "\n",
    "# Get Jump times\n",
    "taus = t_list\n",
    "t_steps = [tau for tau in taus]\n",
    "\n",
    "\n",
    "# Get Singular values of betas\n",
    "singular_values_theory = 1/(eigenvalues.sum()+(N+1)*eigenvalues)\n",
    "\n",
    "# Plot times x singular values (step lines)\n",
    "max_time=1e5\n",
    "for k in range(len(singular_values_theory)):\n",
    "    t_steps=[0,taus[k],taus[k], max_time]\n",
    "    s_steps=[0,0,singular_values_theory[k],singular_values_theory[k]]\n",
    "    ax.step(t_steps, s_steps, where='post', linestyle='--', lw=2, color='k', zorder=10, alpha=0.8)\n",
    "\n",
    "# Plot final singular values (horizontal lines)\n",
    "for i, sval in enumerate(singular_values_theory):\n",
    "    ax.axhline(y=sval, color=color_map(i), alpha=0.5, linestyle='dotted', linewidth=2)\n",
    "\n",
    "# Style the axes\n",
    "style_axes(ax)\n",
    "ax.set_xlim(1000,100000)\n",
    "# ax.legend(fontsize=20)\n",
    "#turn_off_grid\n",
    "ax.grid(False)\n",
    "plt.savefig(\"singular-values.pdf\", format=\"pdf\", bbox_inches=\"tight\")\n",
    "plt.show()"
   ]
  },
  {
   "cell_type": "code",
   "execution_count": null,
   "metadata": {},
   "outputs": [],
   "source": []
  }
 ],
 "metadata": {
  "language_info": {
   "name": "python"
  }
 },
 "nbformat": 4,
 "nbformat_minor": 2
}
